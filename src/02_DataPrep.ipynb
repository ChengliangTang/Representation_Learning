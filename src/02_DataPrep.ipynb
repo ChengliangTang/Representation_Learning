{
 "cells": [
  {
   "cell_type": "code",
   "execution_count": 1,
   "metadata": {},
   "outputs": [],
   "source": [
    "## This script is for data preparation"
   ]
  },
  {
   "cell_type": "code",
   "execution_count": 2,
   "metadata": {},
   "outputs": [],
   "source": [
    "# step 1. load packages\n",
    "import os, cv2, h5py, gdal\n",
    "import pandas as pd\n",
    "import numpy as np\n",
    "import tensorflow as tf\n",
    "import matplotlib.pyplot as plt"
   ]
  },
  {
   "cell_type": "code",
   "execution_count": 3,
   "metadata": {},
   "outputs": [],
   "source": [
    "# step 2. data preparation\n",
    "## load tif images\n",
    "imTIF = gdal.Open('../training/20170305_PRday4-92-57.tif')\n",
    "## get three color channels\n",
    "channel_1 = np.array(imTIF.GetRasterBand(1).ReadAsArray())\n",
    "channel_2 = np.array(imTIF.GetRasterBand(2).ReadAsArray())\n",
    "channel_3 = np.array(imTIF.GetRasterBand(3).ReadAsArray())\n",
    "## transform to .jpg\n",
    "img = np.array([channel_3, channel_2, channel_1])\n",
    "img = np.transpose(img, [1, 2, 0])"
   ]
  },
  {
   "cell_type": "code",
   "execution_count": 4,
   "metadata": {},
   "outputs": [],
   "source": [
    "# step 3. transform images\n",
    "imgH = img\n",
    "## down scale the image\n",
    "imgL = cv2.resize(img, (1666, 1666), interpolation = cv2.INTER_NEAREST)\n",
    "## upscale image using cubic spline\n",
    "imgL = cv2.resize(imgL, (10000, 10000), interpolation = cv2.INTER_CUBIC)\n",
    "## YCrCb transformation\n",
    "#imgH = cv2.cvtColor(imgH, cv2.COLOR_BGR2YCrCb)[:, :, 0] / 255.0\n",
    "#imgL = cv2.cvtColor(imgL, cv2.COLOR_BGR2YCrCb)[:, :, 0] / 255.0\n",
    "imgH = imgH / 255.0\n",
    "imgL = imgL / 255.0"
   ]
  },
  {
   "cell_type": "code",
   "execution_count": 5,
   "metadata": {},
   "outputs": [
    {
     "name": "stdout",
     "output_type": "stream",
     "text": [
      "saving completed\n"
     ]
    }
   ],
   "source": [
    "# step 4. save image patch as h5py\n",
    "def write_hdf5(x, y, output_filename):\n",
    "    with h5py.File(output_filename, 'w') as h:\n",
    "        h.create_dataset('data', data=x, shape=x.shape)\n",
    "        h.create_dataset('label', data=y, shape=y.shape)\n",
    "    print('saving completed')\n",
    "X = []\n",
    "Y = []\n",
    "## split image into 200 x 200 patches\n",
    "for i in range(50):\n",
    "    for j in range(50):\n",
    "        r_1 = i * 200\n",
    "        r_2 = r_1 + 200\n",
    "        c_1 = j * 200\n",
    "        c_2 = c_1 + 200\n",
    "        X.append(imgL[r_1:r_2, c_1:c_2])\n",
    "        Y.append(imgH[r_1:r_2, c_1:c_2])\n",
    "X = np.array(X, dtype=np.float32)\n",
    "Y = np.array(Y, dtype=np.float32)\n",
    "write_hdf5(X, Y, 'crop_train.h5')      "
   ]
  },
  {
   "cell_type": "code",
   "execution_count": null,
   "metadata": {},
   "outputs": [],
   "source": []
  },
  {
   "cell_type": "code",
   "execution_count": null,
   "metadata": {},
   "outputs": [],
   "source": []
  },
  {
   "cell_type": "code",
   "execution_count": null,
   "metadata": {},
   "outputs": [],
   "source": []
  },
  {
   "cell_type": "code",
   "execution_count": null,
   "metadata": {},
   "outputs": [],
   "source": []
  },
  {
   "cell_type": "code",
   "execution_count": null,
   "metadata": {},
   "outputs": [],
   "source": []
  },
  {
   "cell_type": "code",
   "execution_count": null,
   "metadata": {},
   "outputs": [],
   "source": []
  },
  {
   "cell_type": "code",
   "execution_count": null,
   "metadata": {},
   "outputs": [],
   "source": []
  },
  {
   "cell_type": "code",
   "execution_count": null,
   "metadata": {},
   "outputs": [],
   "source": []
  },
  {
   "cell_type": "code",
   "execution_count": null,
   "metadata": {},
   "outputs": [],
   "source": []
  },
  {
   "cell_type": "code",
   "execution_count": null,
   "metadata": {},
   "outputs": [],
   "source": []
  },
  {
   "cell_type": "code",
   "execution_count": null,
   "metadata": {},
   "outputs": [],
   "source": []
  }
 ],
 "metadata": {
  "kernelspec": {
   "display_name": "Python 3",
   "language": "python",
   "name": "python3"
  },
  "language_info": {
   "codemirror_mode": {
    "name": "ipython",
    "version": 3
   },
   "file_extension": ".py",
   "mimetype": "text/x-python",
   "name": "python",
   "nbconvert_exporter": "python",
   "pygments_lexer": "ipython3",
   "version": "3.7.4"
  }
 },
 "nbformat": 4,
 "nbformat_minor": 2
}
