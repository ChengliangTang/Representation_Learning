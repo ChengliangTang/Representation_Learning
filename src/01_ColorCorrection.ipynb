{
 "cells": [
  {
   "cell_type": "code",
   "execution_count": 1,
   "metadata": {},
   "outputs": [],
   "source": [
    "## This script is for color correction in images"
   ]
  },
  {
   "cell_type": "code",
   "execution_count": 10,
   "metadata": {},
   "outputs": [],
   "source": [
    "# step 1. load packages\n",
    "import os, cv2, gdal\n",
    "import numpy as np\n",
    "import pandas as pd\n",
    "import matplotlib.pyplot as plt\n",
    "from datetime import datetime"
   ]
  },
  {
   "cell_type": "code",
   "execution_count": 11,
   "metadata": {},
   "outputs": [],
   "source": [
    "# step 2. function definition\n",
    "def ColorCorrection(imgBench, img):\n",
    "    ## step 1. find the NA part\n",
    "    channel_1 = img[:, :, 0]\n",
    "    channel_2 = img[:, :, 1]\n",
    "    channel_3 = img[:, :, 2]\n",
    "    img1 = np.abs(channel_1 - channel_2) + np.abs(channel_2 - channel_3) + np.abs(channel_1 - channel_3)\n",
    "    img2 = (channel_1 > 250).astype(int) * (channel_2 > 250).astype(int) * (channel_3 > 250).astype(int)\n",
    "    img2 = 1 - img2\n",
    "    res1 = img1 + img2\n",
    "    ## data: 1, na: 0\n",
    "    res1 = (res1 > 0).astype(int)\n",
    "    ## step 2. find shadow part\n",
    "    imgGray = cv2.cvtColor(img, cv2.COLOR_BGR2GRAY)\n",
    "    ret,thresh = cv2.threshold(imgGray, 87, 255, cv2.THRESH_BINARY)\n",
    "    blur = cv2.blur(thresh, (1000, 1000))\n",
    "    ret2,thresh2 = cv2.threshold(blur, 30, 255, cv2.THRESH_BINARY)\n",
    "    res2 = thresh2 * res1 // 255 ## light: 1, other: 0\n",
    "    res3 = (255 - thresh2) * res1 // 255## shadow: 1, other 0\n",
    "    \n",
    "    ## step 3. color correction\n",
    "    imgLight = np.zeros((10000, 10000, 3), dtype = np.uint8)\n",
    "    imgShade = np.zeros((10000, 10000, 3), dtype = np.uint8)\n",
    "    imgNew = np.zeros((10000, 10000, 3), dtype = np.uint8)\n",
    "    \n",
    "    s1 = res2.sum()\n",
    "    s2 = res3.sum()\n",
    "    \n",
    "    for i in range(3):\n",
    "        vecBench = imgBench[:, :, i].flatten()\n",
    "        vecLight = img[res2 > 0, i].flatten()\n",
    "        vecShade = img[res3 > 0, i].flatten()\n",
    "        \n",
    "        \n",
    "        ## correct the light part\n",
    "        if s1 > 0:\n",
    "            hist1, bin_edge1 = np.histogram(vecLight, bins=np.arange(256), density=True)\n",
    "            quantile1 = np.cumsum(hist1) * 100\n",
    "            quantile1[quantile1 > 100] = 100\n",
    "            quantile1[quantile1 < 0] = 0\n",
    "\n",
    "            q1 = np.percentile(vecBench, quantile1)\n",
    "            q1 = np.append(q1, 255)\n",
    "            for row in range(10000):\n",
    "                original = img[row, :, i]\n",
    "                imgLight[row, :, i] = q1[original]\n",
    "        \n",
    "        ## correct the shadow part\n",
    "        if s2 >0:\n",
    "            hist2, bin_edge2 = np.histogram(vecShade, bins=np.arange(256), density=True)\n",
    "            quantile2 = np.cumsum(hist2) * 100\n",
    "            quantile2[quantile2 > 100] = 100\n",
    "            quantile2[quantile2 < 0] = 0\n",
    "\n",
    "            q2 = np.percentile(vecBench, quantile2)\n",
    "            q2 = np.append(q2, 255)\n",
    "            for row in range(10000):\n",
    "                original = img[row, :, i]\n",
    "                imgShade[row, :, i] = q2[original]\n",
    "                \n",
    "        imgNew[:, :, i] = res2 * imgLight[:, :, i] + res3 * imgShade[:, :, i]\n",
    "    return imgNew\n",
    "        \n",
    " "
   ]
  },
  {
   "cell_type": "code",
   "execution_count": null,
   "metadata": {},
   "outputs": [],
   "source": []
  },
  {
   "cell_type": "code",
   "execution_count": null,
   "metadata": {},
   "outputs": [],
   "source": []
  },
  {
   "cell_type": "code",
   "execution_count": null,
   "metadata": {},
   "outputs": [],
   "source": []
  },
  {
   "cell_type": "code",
   "execution_count": null,
   "metadata": {},
   "outputs": [],
   "source": []
  }
 ],
 "metadata": {
  "kernelspec": {
   "display_name": "Python 3",
   "language": "python",
   "name": "python3"
  },
  "language_info": {
   "codemirror_mode": {
    "name": "ipython",
    "version": 3
   },
   "file_extension": ".py",
   "mimetype": "text/x-python",
   "name": "python",
   "nbconvert_exporter": "python",
   "pygments_lexer": "ipython3",
   "version": "3.7.4"
  }
 },
 "nbformat": 4,
 "nbformat_minor": 2
}
